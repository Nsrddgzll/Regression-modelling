{
  "nbformat": 4,
  "nbformat_minor": 0,
  "metadata": {
    "colab": {
      "provenance": [],
      "include_colab_link": true
    },
    "kernelspec": {
      "name": "python3",
      "display_name": "Python 3"
    },
    "language_info": {
      "name": "python"
    }
  },
  "cells": [
    {
      "cell_type": "markdown",
      "metadata": {
        "id": "view-in-github",
        "colab_type": "text"
      },
      "source": [
        "<a href=\"https://colab.research.google.com/github/Nsrddgzll/Regression-modelling/blob/main/Linear_regregression_representation.ipynb\" target=\"_parent\"><img src=\"https://colab.research.google.com/assets/colab-badge.svg\" alt=\"Open In Colab\"/></a>"
      ]
    },
    {
      "cell_type": "markdown",
      "source": [
        "# Optional Lab: Model Representation\n",
        "\n",
        "<figure>\n",
        " <img src=\"https://github.com/TurboNeso/Testrepo/blob/main/images/C1_W1_L3_S1_Lecture_b.png?raw=1\"   style=\"width:600px;height:200px;\">\n",
        "</figure>\n"
      ],
      "metadata": {
        "id": "BSnKP6Z60Yt3"
      }
    },
    {
      "cell_type": "markdown",
      "source": [
        "##Goals\n",
        "In this lab we will explore:\n",
        "- to implement the model $f_{w, b}$ for linear regression with one variable"
      ],
      "metadata": {
        "id": "G6i4mmcS0och"
      }
    },
    {
      "cell_type": "markdown",
      "source": [
        "## Notation\n",
        "Here is a summary of some of the notation will use.  \n",
        "\n",
        "|General <img width=70/> <br />  Notation  <img width=70/> | Description<img width=350/>| Python (if applicable) |\n",
        "|: ------------|: ------------------------------------------------------------||\n",
        "| $a$ | scalar, non bold                                                      ||\n",
        "| $\\mathbf{a}$ | vector, bold                                                      ||\n",
        "| **Regression** |         |    |     |\n",
        "|  $\\mathbf{x}$ | Training Example feature values (in this lab - Size (1000 sqft))  | `x_train` |   \n",
        "|  $\\mathbf{y}$  | Training Example  targets (in this lab Price (1000s of dollars))  | `y_train`\n",
        "|  $x^{(i)}$, $y^{(i)}$ | $i_{th}$Training Example | `x_i`, `y_i`|\n",
        "| m | Number of training examples | `m`|\n",
        "|  $w$  |  parameter: weight                                 | `w`    |\n",
        "|  $b$           |  parameter: bias                                           | `b`    |     \n",
        "| $f_{w,b}(x^{(i)})$ | The result of the model evaluation at $x^{(i)}$ parameterized by $w,b$: $f_{w,b}(x^{(i)}) = wx^{(i)}+b$  | `f_wb` |"
      ],
      "metadata": {
        "id": "Ko9B_PlC1Wew"
      }
    },
    {
      "cell_type": "markdown",
      "source": [
        "## Tools\n",
        "In this lab we will utilize:\n",
        "- NumPy, a popular library for scientific computing\n",
        "- Matplotlib, a popular library for plotting data"
      ],
      "metadata": {
        "id": "3fI2hjFP1u91"
      }
    },
    {
      "cell_type": "code",
      "source": [
        "import numpy as np\n",
        "import matplotlib.pyplot as plt\n",
        "import math, copy"
      ],
      "metadata": {
        "id": "-WVMr1fa1veZ"
      },
      "execution_count": 1,
      "outputs": []
    },
    {
      "cell_type": "markdown",
      "source": [
        "# Problem Statement\n",
        "<img align=\"left\" src=\"https://github.com/TurboNeso/Testrepo/blob/main/images/C1_W1_L3_S1_trainingdata.png?raw=1\"    style=\" width:380px; padding: 10px;  \" />\n",
        "\n",
        "we will use example of housing price prediction.  \n",
        "This lab will use a simple data set with only two data points - a house with 1000 square feet(sqft) sold for \\\\$300,000 and a house with 2000 square feet sold for \\\\$500,000. These two points will constitute our *data or training set*. In this lab, the units of size are 1000 sqft and the units of price are 1000s of dollars.\n",
        "\n",
        "| Size (1000 sqft)     | Price (1000s of dollars) |\n",
        "| -------------------| ------------------------ |\n",
        "| 1.0               | 300                      |\n",
        "| 2.0               | 500                      |\n",
        "\n",
        "We would like to fit a linear regression model (shown above as the blue straight line) through these two points, so we can then predict price for other houses - say, a house with 1200 sqft."
      ],
      "metadata": {
        "id": "Ky19T7uB2dPT"
      }
    },
    {
      "cell_type": "markdown",
      "source": [
        "let's run the following code cell to create our x_train and y_train variables. The data is stored in one-dimensional NumPy arrays."
      ],
      "metadata": {
        "id": "bihBWKBO2xt3"
      }
    },
    {
      "cell_type": "code",
      "source": [
        "# x_train is the input variable ( size in 1000 square feet)\n",
        "# y_train is the target ( price in 1000's of dollars)\n",
        "x_train = np.array([1.0, 2.0])\n",
        "y_train = np.array([300.0, 500.0])\n",
        "print(f'x_train = {x_train}')\n",
        "print(f'y_train = {y_train}')"
      ],
      "metadata": {
        "colab": {
          "base_uri": "https://localhost:8080/"
        },
        "id": "16_ad32R2yQ7",
        "outputId": "1fbe2ff4-a7c0-40e2-f3c5-88a4a4d60f73"
      },
      "execution_count": 2,
      "outputs": [
        {
          "output_type": "stream",
          "name": "stdout",
          "text": [
            "x_train = [1. 2.]\n",
            "y_train = [300. 500.]\n"
          ]
        }
      ]
    },
    {
      "cell_type": "markdown",
      "source": [
        "### Number of training examples `m`\n",
        "we will use `m` to denote the number of training examples. Numpy arrays have a `.shape` parameter. `x_train.shape` returns a python tuple with an entry for each dimension. `x_train.shape[0]` is the length of the array and number of examples as shown below."
      ],
      "metadata": {
        "id": "YAfO-XDr4Ux8"
      }
    },
    {
      "cell_type": "code",
      "source": [
        "# m is the number of training examples\n",
        "print(f'x_train.shape: {x_train.shape}')\n",
        "m = x_train.shape[0]\n",
        "print(f'number of training examples is {m} ')"
      ],
      "metadata": {
        "colab": {
          "base_uri": "https://localhost:8080/"
        },
        "id": "R8xKYI5N4VXz",
        "outputId": "d64116b2-feb0-47e1-b103-fbc2709fe2a3"
      },
      "execution_count": 3,
      "outputs": [
        {
          "output_type": "stream",
          "name": "stdout",
          "text": [
            "x_train.shape: (2,)\n",
            "number of training examples is 2 \n"
          ]
        }
      ]
    },
    {
      "cell_type": "code",
      "source": [
        "# Function to calculate the cost\n",
        "def compute_cost(x, y, w, b):\n",
        "\n",
        "  \"\"\"\n",
        "  Function to calcuate the cost\n",
        "  Arguments:\n",
        "    x: training example of feature values\n",
        "    y: training example of target values\n",
        "    w: parameter (wight)\n",
        "    b: parameter (bias)\n",
        "  \"\"\"\n",
        "  # Initialize the cost\n",
        "  cost = 0\n",
        "  # get the namber of traning examples\n",
        "  m = x.shape[0]\n",
        "  # loop through  the number of training examples\n",
        "  for i in range(m):\n",
        "    f_wb = w*x[i] +b\n",
        "    cost = cost + (f_wb - y[i])**2\n",
        "  total_cost = cost / 2*m\n",
        "  return total_cost"
      ],
      "metadata": {
        "id": "DW2CgmDv45Rm"
      },
      "execution_count": 4,
      "outputs": []
    },
    {
      "cell_type": "markdown",
      "source": [
        "let's calculate to cost using arbitrary parameters, such as zeros"
      ],
      "metadata": {
        "id": "iyUEKs7Xprag"
      }
    },
    {
      "cell_type": "code",
      "source": [
        "w_in = 0\n",
        "b_in = 0\n",
        "compute_cost(x_train, y_train, w_in, b_in)"
      ],
      "metadata": {
        "id": "pqqSeoITRZIq",
        "outputId": "18fb5ef4-b4a2-4b34-e42b-527859119886",
        "colab": {
          "base_uri": "https://localhost:8080/"
        }
      },
      "execution_count": 6,
      "outputs": [
        {
          "output_type": "execute_result",
          "data": {
            "text/plain": [
              "340000.0"
            ]
          },
          "metadata": {},
          "execution_count": 6
        }
      ]
    },
    {
      "cell_type": "markdown",
      "source": [
        "<a name=\"toc_40291_2.2\"></a>\n",
        "## Implement Gradient Descent\n",
        "We will implement gradient descent algorithm for one feature. We will need three functions.\n",
        "- `compute_gradient` implementing equation (4) and (5) above\n",
        "- `compute_cost` implementing equation (2) above (code from previous lab)\n",
        "- `gradient_descent`, utilizing compute_gradient and compute_cost\n",
        "\n",
        "Conventions:\n",
        "- The naming of python variables containing partial derivatives follows this pattern,$\\frac{\\partial J(w,b)}{\\partial b}$  will be `dj_db`.\n",
        "- w.r.t is With Respect To, as in partial derivative of $J(wb)$ With Respect To $b$.\n"
      ],
      "metadata": {
        "id": "35rujsr1SDw3"
      }
    },
    {
      "cell_type": "code",
      "source": [
        "def compute_gradient(x, y, w, b):\n",
        "  m = x.shape[0]\n",
        "  dj_dw = 0\n",
        "  dj_db = 0\n",
        "  for i in range(m):\n",
        "    f_wb = w*x[i] + b\n",
        "    dj_dw_i = (f_wb - y[i])*x[i]\n",
        "    dj_db_i = (f_wb - y[i])\n",
        "    dj_dw =+ dj_dw_i\n",
        "    dj_db =+ dj_db_i\n",
        "  dj_dw = dj_dw/m\n",
        "  dj_db = dj_db/m\n",
        "  return dj_dw, dj_db"
      ],
      "metadata": {
        "id": "0wG9r4gFSEVX"
      },
      "execution_count": 7,
      "outputs": []
    },
    {
      "cell_type": "code",
      "source": [
        "def gradient_descent(x, y, w_in, b_in, alpha, num_iters, cost_function, gradient_function):\n",
        "  # an array to store cost J and w's at each iteration primarily for graphing later\n",
        "  J_history = []\n",
        "  p_history = []\n",
        "  b = b_in\n",
        "  w = w_in\n",
        "\n",
        "  for i in range(num_iters):\n",
        "    # Calculate the gradient and update the parameters using gradient_function\n",
        "    dj_dw, dj_db = gradient_function(x, y, w, b)\n",
        "\n",
        "    # Update Parameters using equation (3) above\n",
        "    w = w - alpha*dj_dw\n",
        "    b = b - alpha*dj_db\n",
        "\n",
        "    # Save cost J at each iteration\n",
        "    if i < 100000:\n",
        "      J_history.append(cost_function(x, y, w, b))\n",
        "      p_history.append([w,b])\n",
        "     # Print cost every at intervals 10 times or as many iterations if < 10\n",
        "    if i% math.ceil(num_iters/10) == 0:\n",
        "       print(f'Iteration{i:4}: Cost{J_history[-1]:0.2e}',\n",
        "       f'dj_dw: {dj_dw:0.3e} , dj_db: {dj_db:0.3e}',\n",
        "       f'w: {w:0.3e}, b: {b:0.5e}')\n",
        "  return w, b, J_history, p_history\n",
        "\n",
        "\n",
        "\n"
      ],
      "metadata": {
        "id": "6cTpCeylTarq"
      },
      "execution_count": 8,
      "outputs": []
    },
    {
      "cell_type": "code",
      "source": [
        "# Initialize parameters\n",
        "w_init = 0\n",
        "b_init = 0\n",
        "\n",
        "# Some gradient descent settings\n",
        "iterations = 10000\n",
        "tmp_alpha = 1.0e-2\n",
        "\n",
        "# Run the Gradient Decent\n",
        "w_final, b_final, J_hist, p_hist = gradient_descent(x_train, y_train, w_init, b_init, tmp_alpha, iterations,compute_cost, compute_gradient)\n",
        "print(f'(w,b) found by gradient descent: {w_final:8.4f}, {b_final:8.4f}')\n"
      ],
      "metadata": {
        "colab": {
          "base_uri": "https://localhost:8080/"
        },
        "id": "MTsdnuAqk7Df",
        "outputId": "e1a319fe-ca85-41ea-cb00-0f6c2c650edb"
      },
      "execution_count": 9,
      "outputs": [
        {
          "output_type": "stream",
          "name": "stdout",
          "text": [
            "Iteration   0: Cost3.23e+05 dj_dw: -5.000e+02 , dj_db: -2.500e+02 w: 5.000e+00, b: 2.50000e+00\n",
            "Iteration1000: Cost3.30e-17 dj_dw: -5.054e-09 , dj_db: -2.527e-09 w: 2.000e+02, b: 1.00000e+02\n",
            "Iteration2000: Cost2.75e-24 dj_dw: -1.421e-12 , dj_db: -7.105e-13 w: 2.000e+02, b: 1.00000e+02\n",
            "Iteration3000: Cost2.75e-24 dj_dw: -1.421e-12 , dj_db: -7.105e-13 w: 2.000e+02, b: 1.00000e+02\n",
            "Iteration4000: Cost2.75e-24 dj_dw: -1.421e-12 , dj_db: -7.105e-13 w: 2.000e+02, b: 1.00000e+02\n",
            "Iteration5000: Cost2.75e-24 dj_dw: -1.421e-12 , dj_db: -7.105e-13 w: 2.000e+02, b: 1.00000e+02\n",
            "Iteration6000: Cost2.75e-24 dj_dw: -1.421e-12 , dj_db: -7.105e-13 w: 2.000e+02, b: 1.00000e+02\n",
            "Iteration7000: Cost2.75e-24 dj_dw: -1.421e-12 , dj_db: -7.105e-13 w: 2.000e+02, b: 1.00000e+02\n",
            "Iteration8000: Cost2.75e-24 dj_dw: -1.421e-12 , dj_db: -7.105e-13 w: 2.000e+02, b: 1.00000e+02\n",
            "Iteration9000: Cost2.75e-24 dj_dw: -1.421e-12 , dj_db: -7.105e-13 w: 2.000e+02, b: 1.00000e+02\n",
            "(w,b) found by gradient descent: 200.0000, 100.0000\n"
          ]
        }
      ]
    },
    {
      "cell_type": "code",
      "source": [
        "fig, (ax1, ax2) = plt.subplots(1, 2, constrained_layout=True, figsize=(12,4))\n",
        "ax1.plot(J_hist[:100])\n",
        "ax2.plot(1000 + np.arange(len(J_hist[1000:])), J_hist[1000:])\n",
        "ax1.set_title(\"Cost vs. iteration(start)\");  ax2.set_title(\"Cost vs. iteration (end)\")\n",
        "ax1.set_ylabel('Cost')            ;  ax2.set_ylabel('Cost')\n",
        "ax1.set_xlabel('iteration step')  ;  ax2.set_xlabel('iteration step')\n",
        "plt.show()\n"
      ],
      "metadata": {
        "colab": {
          "base_uri": "https://localhost:8080/",
          "height": 428
        },
        "id": "XEdVmeWRpNS_",
        "outputId": "30ef0fd8-06d6-40d0-a596-bf93dc34d30b"
      },
      "execution_count": 10,
      "outputs": [
        {
          "output_type": "display_data",
          "data": {
            "text/plain": [
              "<Figure size 1200x400 with 2 Axes>"
            ],
            "image/png": "[encoded data removed]"
          },
          "metadata": {}
        }
      ]
    },
    {
      "cell_type": "code",
      "source": [],
      "metadata": {
        "id": "Git9_n-yrhTQ"
      },
      "execution_count": null,
      "outputs": []
    }
  ]
}