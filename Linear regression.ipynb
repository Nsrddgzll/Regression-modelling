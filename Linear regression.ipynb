{
  "cells": [
    {
      "cell_type": "markdown",
      "metadata": {
        "id": "view-in-github",
        "colab_type": "text"
      },
      "source": [
        "<a href=\"https://colab.research.google.com/github/TurboNeso/Testrepo/blob/main/Linear%20regression.ipynb\" target=\"_parent\"><img src=\"https://colab.research.google.com/assets/colab-badge.svg\" alt=\"Open In Colab\"/></a>"
      ]
    },
    {
      "cell_type": "code",
      "source": [
        "import numpy as np\n",
        "\n",
        "def compute_cost(X, y, w, b):\n",
        "    m = X.shape[0] # number of examples\n",
        "    y_pred = np.dot(X, w) + b\n",
        "    cost = (1/(2*m)) * np.sum((y_pred - y)**2)\n",
        "    return cost"
      ],
      "metadata": {
        "id": "rxCSCSyLLpNR"
      },
      "execution_count": 31,
      "outputs": []
    },
    {
      "cell_type": "code",
      "source": [
        "X_train = np.array([[2104, 5, 1, 45], [1416, 3, 2, 40], [852, 2, 1, 35]])\n",
        "y_train = np.array([460, 232, 178])"
      ],
      "metadata": {
        "id": "EGZSz3CuLqmq"
      },
      "execution_count": 32,
      "outputs": []
    },
    {
      "cell_type": "code",
      "source": [
        "b_init = 780\n",
        "w_init = np.array([ 0.39133535, 18.75376741, -53.36032453, -26.42131618])\n",
        "print(f\"w_init shape: {w_init.shape}, b_init type: {type(b_init)}\")"
      ],
      "metadata": {
        "colab": {
          "base_uri": "https://localhost:8080/"
        },
        "id": "Jn7lHA4GL5HT",
        "outputId": "de329deb-9919-48c5-88b2-6e3130599ef1"
      },
      "execution_count": 33,
      "outputs": [
        {
          "output_type": "stream",
          "name": "stdout",
          "text": [
            "w_init shape: (4,), b_init type: <class 'int'>\n"
          ]
        }
      ]
    },
    {
      "cell_type": "code",
      "source": [
        "compute_cost(X_train, y_train, w_init, b_init)"
      ],
      "metadata": {
        "colab": {
          "base_uri": "https://localhost:8080/"
        },
        "id": "VbUgBU-VMALU",
        "outputId": "f8340ee0-5002-4834-97db-0d7ba1e27003"
      },
      "execution_count": 34,
      "outputs": [
        {
          "output_type": "execute_result",
          "data": {
            "text/plain": [
              "13.42209793992774"
            ]
          },
          "metadata": {},
          "execution_count": 34
        }
      ]
    },
    {
      "cell_type": "code",
      "source": [
        "def compute_gradient(X, y, w, b):\n",
        "    m, n = X.shape\n",
        "    d_w = np.zeros((n,))\n",
        "    d_b = 0.\n",
        "    for i in range(m):\n",
        "        y_pred = np.dot(X[i], w) + b\n",
        "        error = y_pred - y[i]\n",
        "        for j in range(n):\n",
        "            d_w[j] += error * X[i, j]\n",
        "        d_b += error\n",
        "    d_w /= m\n",
        "    d_b /= m\n",
        "    return d_w, d_b\n",
        "\n",
        "\n"
      ],
      "metadata": {
        "id": "XEnQpU_aNr5P"
      },
      "execution_count": 37,
      "outputs": []
    },
    {
      "cell_type": "code",
      "source": [
        "alpha = 5.0e-7\n",
        "iteration = 1000\n"
      ],
      "metadata": {
        "id": "gNcsV9ZsObfM"
      },
      "execution_count": 38,
      "outputs": []
    },
    {
      "cell_type": "code",
      "source": [
        "temp_w, temp_b = gradient(X_train, y_train, w_init, b_init)\n",
        "print(temp_b)\n",
        "print(temp_w)\n"
      ],
      "metadata": {
        "colab": {
          "base_uri": "https://localhost:8080/"
        },
        "id": "9XnkorRrP7v8",
        "outputId": "65edb956-dc4d-46bb-eabb-5415d90818bd"
      },
      "execution_count": 39,
      "outputs": [
        {
          "output_type": "stream",
          "name": "stdout",
          "text": [
            "-10.362276946666725\n",
            "[-1.51012922e+04 -3.45409245e+01 -1.38163692e+01 -4.14491082e+02]\n"
          ]
        }
      ]
    },
    {
      "cell_type": "code",
      "source": [
        "def gradient_descent(X, y, w, b, compute_cost, gradient, num_iters, alpha):\n",
        "    m, n = X.shape\n",
        "    costs = []\n",
        "    for i in range(num_iters):\n",
        "        cost = compute_cost(X, y, w, b)\n",
        "        costs.append(cost)\n",
        "        d_w, d_b = gradient(X, y, w, b)\n",
        "        w -= alpha * d_w\n",
        "        b -= alpha * d_b\n",
        "        if (i+1) % 100 == 0:\n",
        "            print(f\"Cost after iteration {i+1}: {cost}\")\n",
        "    return w, b, costs"
      ],
      "metadata": {
        "id": "GtQxN9idQPdc"
      },
      "execution_count": 44,
      "outputs": []
    },
    {
      "cell_type": "code",
      "source": [
        "initial_w = np.zeros_like(w_init)\n",
        "initial_b = 0.\n"
      ],
      "metadata": {
        "id": "h1XivQ1DFMsY"
      },
      "execution_count": 45,
      "outputs": []
    },
    {
      "cell_type": "code",
      "source": [
        "w_final, b_final, Cost = gradient_descent(X_train,y_train, initial_w, initial_b, compute_cost, gradient, iteration, alpha)"
      ],
      "metadata": {
        "colab": {
          "base_uri": "https://localhost:8080/"
        },
        "id": "IIK6SHswG7BK",
        "outputId": "f9efd77a-86ec-47b2-c9bc-5703610395ab"
      },
      "execution_count": 46,
      "outputs": [
        {
          "output_type": "stream",
          "name": "stdout",
          "text": [
            "Cost after iteration 100: 7.059694803220067e+32\n",
            "Cost after iteration 200: 1.9652244469795202e+61\n",
            "Cost after iteration 300: 5.470643185941065e+89\n",
            "Cost after iteration 400: 1.5228762757292873e+118\n",
            "Cost after iteration 500: 4.239267801524861e+146\n",
            "Cost after iteration 600: 1.1800953090847156e+175\n",
            "Cost after iteration 700: 3.285060071040628e+203\n",
            "Cost after iteration 800: 9.144701777278896e+231\n",
            "Cost after iteration 900: 2.54563291954893e+260\n",
            "Cost after iteration 1000: 7.086340395694613e+288\n"
          ]
        }
      ]
    },
    {
      "cell_type": "code",
      "source": [
        "\n",
        "print(w_final)\n",
        "print(b_final)"
      ],
      "metadata": {
        "colab": {
          "base_uri": "https://localhost:8080/"
        },
        "id": "A0BbK5Q8HSWB",
        "outputId": "f1034e69-1afd-4d14-f82e-765cb59fa8c9"
      },
      "execution_count": 43,
      "outputs": [
        {
          "output_type": "stream",
          "name": "stdout",
          "text": [
            "[-3.37940236e+141 -7.77690683e+138 -2.73285150e+138 -8.55248495e+139]\n",
            "-2.0642652834471447e+138\n"
          ]
        }
      ]
    },
    {
      "cell_type": "code",
      "source": [],
      "metadata": {
        "id": "vrnkUnH-Hb5G"
      },
      "execution_count": 43,
      "outputs": []
    }
  ],
  "metadata": {
    "colab": {
      "name": "Welcome To Colaboratory",
      "toc_visible": true,
      "provenance": [],
      "include_colab_link": true
    },
    "kernelspec": {
      "display_name": "Python 3",
      "name": "python3"
    }
  },
  "nbformat": 4,
  "nbformat_minor": 0
}